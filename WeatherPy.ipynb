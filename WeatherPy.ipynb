{
 "cells": [
  {
   "cell_type": "code",
   "execution_count": 28,
   "metadata": {},
   "outputs": [],
   "source": [
    "# Import the dependencies.\n",
    "import pandas as pd\n",
    "import matplotlib.pyplot as plt\n",
    "import numpy as np"
   ]
  },
  {
   "cell_type": "code",
   "execution_count": 29,
   "metadata": {},
   "outputs": [],
   "source": [
    "# Create a set of random latitude and longitude combinations.\n",
    "lats = np.random.uniform(low=-90.000, high=90.000, size=60)\n",
    "lngs = np.random.uniform(low=-180.000, high=180.000, size=60)\n",
    "lat_lngs = zip(lats, lngs)"
   ]
  },
  {
   "cell_type": "code",
   "execution_count": 30,
   "metadata": {},
   "outputs": [],
   "source": [
    "# Add the latitudes and longitudes to a list.\n",
    "coordinates = list(lat_lngs)"
   ]
  },
  {
   "cell_type": "code",
   "execution_count": 31,
   "metadata": {},
   "outputs": [],
   "source": [
    "from citipy import citipy"
   ]
  },
  {
   "cell_type": "code",
   "execution_count": 32,
   "metadata": {},
   "outputs": [
    {
     "data": {
      "text/plain": [
       "49"
      ]
     },
     "execution_count": 32,
     "metadata": {},
     "output_type": "execute_result"
    }
   ],
   "source": [
    "# Create a list for holding the cities.\n",
    "cities = []\n",
    "# Identify the nearest city for each latitude and longitude combination.\n",
    "for coordinate in coordinates:\n",
    "    city = citipy.nearest_city(coordinate[0], coordinate[1]).city_name\n",
    "\n",
    "    # If the city is unique, then we will add it to the cities list.\n",
    "    if city not in cities:\n",
    "        cities.append(city)\n",
    "# Print the city count to confirm sufficient count.\n",
    "len(cities)"
   ]
  },
  {
   "cell_type": "markdown",
   "metadata": {},
   "source": [
    "# 6.2.6"
   ]
  },
  {
   "cell_type": "code",
   "execution_count": 33,
   "metadata": {},
   "outputs": [],
   "source": [
    "# Import the time library and the datetime module from the datetime library \n",
    "import time\n",
    "from datetime import datetime\n",
    "import requests"
   ]
  },
  {
   "cell_type": "code",
   "execution_count": 34,
   "metadata": {},
   "outputs": [],
   "source": [
    "from config import weather_api_key\n",
    "url = \"http://api.openweathermap.org/data/2.5/weather?units=Imperial&APPID=\" + weather_api_key"
   ]
  },
  {
   "cell_type": "code",
   "execution_count": 35,
   "metadata": {},
   "outputs": [
    {
     "name": "stdout",
     "output_type": "stream",
     "text": [
      "Beginning Data Retrieval     \n",
      "-----------------------------\n"
     ]
    }
   ],
   "source": [
    "# Create an empty list to hold the weather data.\n",
    "city_data = []\n",
    "# Print the beginning of the logging.\n",
    "print(\"Beginning Data Retrieval     \")\n",
    "print(\"-----------------------------\")\n",
    "\n",
    "# Create counters.\n",
    "record_count = 1\n",
    "set_count = 1"
   ]
  },
  {
   "cell_type": "code",
   "execution_count": 36,
   "metadata": {},
   "outputs": [
    {
     "name": "stdout",
     "output_type": "stream",
     "text": [
      "Processing Record 1 of Set 1 | san marcos\n",
      "Processing Record 2 of Set 1 | sri aman\n",
      "Processing Record 3 of Set 1 | bethel\n",
      "Processing Record 4 of Set 1 | sibolga\n",
      "Processing Record 5 of Set 1 | illoqqortoormiut\n",
      "City not found. Skipping...\n",
      "Processing Record 6 of Set 1 | codrington\n",
      "Processing Record 7 of Set 1 | hovd\n",
      "Processing Record 8 of Set 1 | asau\n",
      "Processing Record 9 of Set 1 | bowen\n",
      "Processing Record 10 of Set 1 | vaini\n",
      "Processing Record 11 of Set 1 | kanadukathan\n",
      "Processing Record 12 of Set 1 | gizo\n",
      "Processing Record 13 of Set 1 | belushya guba\n",
      "City not found. Skipping...\n",
      "Processing Record 14 of Set 1 | hobart\n",
      "Processing Record 15 of Set 1 | mataura\n",
      "Processing Record 16 of Set 1 | shymkent\n",
      "Processing Record 17 of Set 1 | auki\n",
      "Processing Record 18 of Set 1 | rikitea\n",
      "Processing Record 19 of Set 1 | albany\n",
      "Processing Record 20 of Set 1 | guerrero negro\n",
      "Processing Record 21 of Set 1 | abnub\n",
      "Processing Record 22 of Set 1 | aklavik\n",
      "Processing Record 23 of Set 1 | punta arenas\n",
      "Processing Record 24 of Set 1 | saint-philippe\n",
      "Processing Record 25 of Set 1 | new norfolk\n",
      "Processing Record 26 of Set 1 | arraial do cabo\n",
      "Processing Record 27 of Set 1 | souillac\n",
      "Processing Record 28 of Set 1 | naze\n",
      "Processing Record 29 of Set 1 | kearney\n",
      "Processing Record 30 of Set 1 | yellowknife\n",
      "Processing Record 31 of Set 1 | barentsburg\n",
      "City not found. Skipping...\n",
      "Processing Record 32 of Set 1 | ixtapa\n",
      "Processing Record 33 of Set 1 | miri\n",
      "Processing Record 34 of Set 1 | ushuaia\n",
      "Processing Record 35 of Set 1 | meulaboh\n",
      "Processing Record 36 of Set 1 | torbay\n",
      "Processing Record 37 of Set 1 | hermanus\n",
      "Processing Record 38 of Set 1 | cherskiy\n",
      "Processing Record 39 of Set 1 | yanam\n",
      "Processing Record 40 of Set 1 | port elizabeth\n",
      "Processing Record 41 of Set 1 | ribeira grande\n",
      "Processing Record 42 of Set 1 | komsomolskiy\n",
      "Processing Record 43 of Set 1 | dikson\n",
      "Processing Record 44 of Set 1 | beringovskiy\n",
      "Processing Record 45 of Set 1 | oussouye\n",
      "Processing Record 46 of Set 1 | puerto ayora\n",
      "Processing Record 47 of Set 1 | kapaa\n",
      "Processing Record 48 of Set 1 | nizhneyansk\n",
      "City not found. Skipping...\n",
      "Processing Record 49 of Set 1 | blagoyevo\n",
      "-----------------------------\n",
      "Data Retrieval Complete      \n",
      "-----------------------------\n"
     ]
    }
   ],
   "source": [
    "# Loop through all the cities in the list.\n",
    "for i, city in enumerate(cities):\n",
    "\n",
    "    # Group cities in sets of 50 for logging purposes.\n",
    "    if (i % 50 == 0 and i >= 50):\n",
    "        set_count += 1\n",
    "        record_count = 1\n",
    "        time.sleep(60)\n",
    "\n",
    "    # Create endpoint URL with each city.\n",
    "    city_url = url + \"&q=\" + city.replace(\" \",\"+\")\n",
    "\n",
    "    # Log the URL, record, and set numbers and the city.\n",
    "    print(f\"Processing Record {record_count} of Set {set_count} | {city}\")\n",
    "    # Add 1 to the record count.\n",
    "    record_count += 1\n",
    "    \n",
    "    # Run an API request for each of the cities.\n",
    "    try:\n",
    "        # Parse the JSON and retrieve data.\n",
    "        city_weather = requests.get(city_url).json()\n",
    "        # Parse out the needed data.\n",
    "        city_lat = city_weather[\"coord\"][\"lat\"]\n",
    "        city_lng = city_weather[\"coord\"][\"lon\"]\n",
    "        city_max_temp = city_weather[\"main\"][\"temp_max\"]\n",
    "        city_humidity = city_weather[\"main\"][\"humidity\"]\n",
    "        city_clouds = city_weather[\"clouds\"][\"all\"]\n",
    "        city_wind = city_weather[\"wind\"][\"speed\"]\n",
    "        city_country = city_weather[\"sys\"][\"country\"]\n",
    "        # Convert the date to ISO standard.\n",
    "        city_date = datetime.utcfromtimestamp(city_weather[\"dt\"]).strftime('%Y-%m-%d %H:%M:%S')\n",
    "        # Append the city information into city_data list.\n",
    "        city_data.append({\"City\": city.title(),\n",
    "                          \"Lat\": city_lat,\n",
    "                          \"Lng\": city_lng,\n",
    "                          \"Max Temp\": city_max_temp,\n",
    "                          \"Humidity\": city_humidity,\n",
    "                          \"Cloudiness\": city_clouds,\n",
    "                          \"Wind Speed\": city_wind,\n",
    "                          \"Country\": city_country,\n",
    "                          \"Date\": city_date})\n",
    "\n",
    "# If an e\n",
    "# rror is experienced, skip the city.\n",
    "    except:\n",
    "        print(\"City not found. Skipping...\")\n",
    "        pass\n",
    "\n",
    "# Indicate that Data Loading is complete.\n",
    "print(\"-----------------------------\")\n",
    "print(\"Data Retrieval Complete      \")\n",
    "print(\"-----------------------------\")"
   ]
  },
  {
   "cell_type": "markdown",
   "metadata": {},
   "source": [
    "6.2.7"
   ]
  },
  {
   "cell_type": "code",
   "execution_count": 37,
   "metadata": {},
   "outputs": [
    {
     "data": {
      "text/html": [
       "<div>\n",
       "<style scoped>\n",
       "    .dataframe tbody tr th:only-of-type {\n",
       "        vertical-align: middle;\n",
       "    }\n",
       "\n",
       "    .dataframe tbody tr th {\n",
       "        vertical-align: top;\n",
       "    }\n",
       "\n",
       "    .dataframe thead th {\n",
       "        text-align: right;\n",
       "    }\n",
       "</style>\n",
       "<table border=\"1\" class=\"dataframe\">\n",
       "  <thead>\n",
       "    <tr style=\"text-align: right;\">\n",
       "      <th></th>\n",
       "      <th>City</th>\n",
       "      <th>Lat</th>\n",
       "      <th>Lng</th>\n",
       "      <th>Max Temp</th>\n",
       "      <th>Humidity</th>\n",
       "      <th>Cloudiness</th>\n",
       "      <th>Wind Speed</th>\n",
       "      <th>Country</th>\n",
       "      <th>Date</th>\n",
       "    </tr>\n",
       "  </thead>\n",
       "  <tbody>\n",
       "    <tr>\n",
       "      <th>0</th>\n",
       "      <td>San Marcos</td>\n",
       "      <td>33.1434</td>\n",
       "      <td>-117.1661</td>\n",
       "      <td>88.86</td>\n",
       "      <td>23</td>\n",
       "      <td>0</td>\n",
       "      <td>12.66</td>\n",
       "      <td>US</td>\n",
       "      <td>2022-03-01 22:20:31</td>\n",
       "    </tr>\n",
       "    <tr>\n",
       "      <th>1</th>\n",
       "      <td>Sri Aman</td>\n",
       "      <td>1.2376</td>\n",
       "      <td>111.4621</td>\n",
       "      <td>75.25</td>\n",
       "      <td>94</td>\n",
       "      <td>93</td>\n",
       "      <td>0.00</td>\n",
       "      <td>MY</td>\n",
       "      <td>2022-03-01 22:20:31</td>\n",
       "    </tr>\n",
       "    <tr>\n",
       "      <th>2</th>\n",
       "      <td>Bethel</td>\n",
       "      <td>41.3712</td>\n",
       "      <td>-73.4140</td>\n",
       "      <td>43.56</td>\n",
       "      <td>75</td>\n",
       "      <td>40</td>\n",
       "      <td>9.22</td>\n",
       "      <td>US</td>\n",
       "      <td>2022-03-01 22:18:48</td>\n",
       "    </tr>\n",
       "    <tr>\n",
       "      <th>3</th>\n",
       "      <td>Sibolga</td>\n",
       "      <td>1.7427</td>\n",
       "      <td>98.7792</td>\n",
       "      <td>75.63</td>\n",
       "      <td>85</td>\n",
       "      <td>96</td>\n",
       "      <td>2.82</td>\n",
       "      <td>ID</td>\n",
       "      <td>2022-03-01 22:20:32</td>\n",
       "    </tr>\n",
       "    <tr>\n",
       "      <th>4</th>\n",
       "      <td>Codrington</td>\n",
       "      <td>-38.2667</td>\n",
       "      <td>141.9667</td>\n",
       "      <td>68.05</td>\n",
       "      <td>85</td>\n",
       "      <td>82</td>\n",
       "      <td>10.89</td>\n",
       "      <td>AU</td>\n",
       "      <td>2022-03-01 22:20:32</td>\n",
       "    </tr>\n",
       "  </tbody>\n",
       "</table>\n",
       "</div>"
      ],
      "text/plain": [
       "         City      Lat       Lng  Max Temp  Humidity  Cloudiness  Wind Speed  \\\n",
       "0  San Marcos  33.1434 -117.1661     88.86        23           0       12.66   \n",
       "1    Sri Aman   1.2376  111.4621     75.25        94          93        0.00   \n",
       "2      Bethel  41.3712  -73.4140     43.56        75          40        9.22   \n",
       "3     Sibolga   1.7427   98.7792     75.63        85          96        2.82   \n",
       "4  Codrington -38.2667  141.9667     68.05        85          82       10.89   \n",
       "\n",
       "  Country                 Date  \n",
       "0      US  2022-03-01 22:20:31  \n",
       "1      MY  2022-03-01 22:20:31  \n",
       "2      US  2022-03-01 22:18:48  \n",
       "3      ID  2022-03-01 22:20:32  \n",
       "4      AU  2022-03-01 22:20:32  "
      ]
     },
     "execution_count": 37,
     "metadata": {},
     "output_type": "execute_result"
    }
   ],
   "source": [
    "# Convert the array of dictionaries to a Pandas DataFrame.\n",
    "city_data_df = pd.DataFrame(city_data)\n",
    "city_data_df.head()"
   ]
  },
  {
   "cell_type": "code",
   "execution_count": 38,
   "metadata": {},
   "outputs": [
    {
     "data": {
      "text/plain": [
       "Index(['City', 'Lat', 'Lng', 'Max Temp', 'Humidity', 'Cloudiness',\n",
       "       'Wind Speed', 'Country', 'Date'],\n",
       "      dtype='object')"
      ]
     },
     "execution_count": 38,
     "metadata": {},
     "output_type": "execute_result"
    }
   ],
   "source": [
    "city_data_df.columns"
   ]
  },
  {
   "cell_type": "code",
   "execution_count": 39,
   "metadata": {},
   "outputs": [
    {
     "data": {
      "text/html": [
       "<div>\n",
       "<style scoped>\n",
       "    .dataframe tbody tr th:only-of-type {\n",
       "        vertical-align: middle;\n",
       "    }\n",
       "\n",
       "    .dataframe tbody tr th {\n",
       "        vertical-align: top;\n",
       "    }\n",
       "\n",
       "    .dataframe thead th {\n",
       "        text-align: right;\n",
       "    }\n",
       "</style>\n",
       "<table border=\"1\" class=\"dataframe\">\n",
       "  <thead>\n",
       "    <tr style=\"text-align: right;\">\n",
       "      <th></th>\n",
       "      <th>City</th>\n",
       "      <th>Country</th>\n",
       "      <th>Date</th>\n",
       "      <th>Lat</th>\n",
       "      <th>Lng</th>\n",
       "      <th>Max Temp</th>\n",
       "      <th>Humidity</th>\n",
       "      <th>Cloudiness</th>\n",
       "      <th>Wind Speed</th>\n",
       "    </tr>\n",
       "  </thead>\n",
       "  <tbody>\n",
       "    <tr>\n",
       "      <th>0</th>\n",
       "      <td>San Marcos</td>\n",
       "      <td>US</td>\n",
       "      <td>2022-03-01 22:20:31</td>\n",
       "      <td>33.1434</td>\n",
       "      <td>-117.1661</td>\n",
       "      <td>88.86</td>\n",
       "      <td>23</td>\n",
       "      <td>0</td>\n",
       "      <td>12.66</td>\n",
       "    </tr>\n",
       "    <tr>\n",
       "      <th>1</th>\n",
       "      <td>Sri Aman</td>\n",
       "      <td>MY</td>\n",
       "      <td>2022-03-01 22:20:31</td>\n",
       "      <td>1.2376</td>\n",
       "      <td>111.4621</td>\n",
       "      <td>75.25</td>\n",
       "      <td>94</td>\n",
       "      <td>93</td>\n",
       "      <td>0.00</td>\n",
       "    </tr>\n",
       "    <tr>\n",
       "      <th>2</th>\n",
       "      <td>Bethel</td>\n",
       "      <td>US</td>\n",
       "      <td>2022-03-01 22:18:48</td>\n",
       "      <td>41.3712</td>\n",
       "      <td>-73.4140</td>\n",
       "      <td>43.56</td>\n",
       "      <td>75</td>\n",
       "      <td>40</td>\n",
       "      <td>9.22</td>\n",
       "    </tr>\n",
       "    <tr>\n",
       "      <th>3</th>\n",
       "      <td>Sibolga</td>\n",
       "      <td>ID</td>\n",
       "      <td>2022-03-01 22:20:32</td>\n",
       "      <td>1.7427</td>\n",
       "      <td>98.7792</td>\n",
       "      <td>75.63</td>\n",
       "      <td>85</td>\n",
       "      <td>96</td>\n",
       "      <td>2.82</td>\n",
       "    </tr>\n",
       "    <tr>\n",
       "      <th>4</th>\n",
       "      <td>Codrington</td>\n",
       "      <td>AU</td>\n",
       "      <td>2022-03-01 22:20:32</td>\n",
       "      <td>-38.2667</td>\n",
       "      <td>141.9667</td>\n",
       "      <td>68.05</td>\n",
       "      <td>85</td>\n",
       "      <td>82</td>\n",
       "      <td>10.89</td>\n",
       "    </tr>\n",
       "  </tbody>\n",
       "</table>\n",
       "</div>"
      ],
      "text/plain": [
       "         City Country                 Date      Lat       Lng  Max Temp  \\\n",
       "0  San Marcos      US  2022-03-01 22:20:31  33.1434 -117.1661     88.86   \n",
       "1    Sri Aman      MY  2022-03-01 22:20:31   1.2376  111.4621     75.25   \n",
       "2      Bethel      US  2022-03-01 22:18:48  41.3712  -73.4140     43.56   \n",
       "3     Sibolga      ID  2022-03-01 22:20:32   1.7427   98.7792     75.63   \n",
       "4  Codrington      AU  2022-03-01 22:20:32 -38.2667  141.9667     68.05   \n",
       "\n",
       "   Humidity  Cloudiness  Wind Speed  \n",
       "0        23           0       12.66  \n",
       "1        94          93        0.00  \n",
       "2        75          40        9.22  \n",
       "3        85          96        2.82  \n",
       "4        85          82       10.89  "
      ]
     },
     "execution_count": 39,
     "metadata": {},
     "output_type": "execute_result"
    }
   ],
   "source": [
    "new_cols = ['City', 'Country', 'Date', 'Lat', 'Lng', 'Max Temp', 'Humidity', 'Cloudiness', 'Wind Speed']\n",
    "city_data_df = city_data_df[new_cols]\n",
    "city_data_df.head()"
   ]
  },
  {
   "cell_type": "code",
   "execution_count": 40,
   "metadata": {},
   "outputs": [],
   "source": [
    "# Create the output file (CSV).\n",
    "output_data_file = \"weather_data/cities.csv\"\n",
    "# Export the City_Data into a CSV.\n",
    "city_data_df.to_csv(output_data_file, index_label=\"City_ID\")"
   ]
  }
 ],
 "metadata": {
  "interpreter": {
   "hash": "c36e6863e1b6f5ecd72cf6edf4d3efba827096cc882d61c6bd4dc8c8a5d3f60e"
  },
  "kernelspec": {
   "display_name": "Python 3.7.11 ('PythonData')",
   "language": "python",
   "name": "python3"
  },
  "language_info": {
   "codemirror_mode": {
    "name": "ipython",
    "version": 3
   },
   "file_extension": ".py",
   "mimetype": "text/x-python",
   "name": "python",
   "nbconvert_exporter": "python",
   "pygments_lexer": "ipython3",
   "version": "3.7.11"
  },
  "orig_nbformat": 4
 },
 "nbformat": 4,
 "nbformat_minor": 2
}
